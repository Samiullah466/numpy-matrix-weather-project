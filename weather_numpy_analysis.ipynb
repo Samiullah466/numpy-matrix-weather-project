{
  "cells": [
    {
      "cell_type": "markdown",
      "id": "ae5523c3",
      "metadata": {
        "id": "ae5523c3"
      },
      "source": [
        "# Week 1 - Day 3 Lab: Data & Matrix Manipulation\n",
        "In this lab, you'll work with a realistic weather dataset. You'll use **Pandas** to explore and clean the data, and **NumPy** to perform matrix operations.\n",
        "\n",
        "**Dataset:** `hourly_weather_10_days.csv` (10 days of hourly weather data)"
      ]
    },
    {
      "cell_type": "markdown",
      "id": "10e89261",
      "metadata": {
        "id": "10e89261"
      },
      "source": [
        "## Step 1: Load the Data\n",
        "- Use Pandas to load the CSV file\n",
        "- Display the first few rows\n",
        "- Check the number of rows and columns"
      ]
    },
    {
      "cell_type": "code",
      "execution_count": null,
      "id": "9b7002fd",
      "metadata": {
        "id": "9b7002fd",
        "colab": {
          "base_uri": "https://localhost:8080/",
          "height": 206
        },
        "outputId": "24234f5a-14af-437d-8416-eb6b37f8b01e"
      },
      "outputs": [
        {
          "output_type": "execute_result",
          "data": {
            "text/plain": [
              "             timestamp  temperature_C  humidity_%  wind_speed_kmph  \\\n",
              "0  2023-03-01 00:00:00           16.6        74.4              5.7   \n",
              "1  2023-03-01 01:00:00           16.2        78.5              5.0   \n",
              "2  2023-03-01 02:00:00           15.3        73.3              4.7   \n",
              "3  2023-03-01 03:00:00           15.8        72.4              1.3   \n",
              "4  2023-03-01 04:00:00           20.9        70.6              6.8   \n",
              "\n",
              "   pressure_hPa  visibility_km  \n",
              "0        1012.5            9.5  \n",
              "1        1012.1           10.3  \n",
              "2           NaN           11.1  \n",
              "3        1005.0            8.9  \n",
              "4        1016.3            9.8  "
            ],
            "text/html": [
              "\n",
              "  <div id=\"df-934082b1-30bf-4b4b-9d58-e2d7ce642380\" class=\"colab-df-container\">\n",
              "    <div>\n",
              "<style scoped>\n",
              "    .dataframe tbody tr th:only-of-type {\n",
              "        vertical-align: middle;\n",
              "    }\n",
              "\n",
              "    .dataframe tbody tr th {\n",
              "        vertical-align: top;\n",
              "    }\n",
              "\n",
              "    .dataframe thead th {\n",
              "        text-align: right;\n",
              "    }\n",
              "</style>\n",
              "<table border=\"1\" class=\"dataframe\">\n",
              "  <thead>\n",
              "    <tr style=\"text-align: right;\">\n",
              "      <th></th>\n",
              "      <th>timestamp</th>\n",
              "      <th>temperature_C</th>\n",
              "      <th>humidity_%</th>\n",
              "      <th>wind_speed_kmph</th>\n",
              "      <th>pressure_hPa</th>\n",
              "      <th>visibility_km</th>\n",
              "    </tr>\n",
              "  </thead>\n",
              "  <tbody>\n",
              "    <tr>\n",
              "      <th>0</th>\n",
              "      <td>2023-03-01 00:00:00</td>\n",
              "      <td>16.6</td>\n",
              "      <td>74.4</td>\n",
              "      <td>5.7</td>\n",
              "      <td>1012.5</td>\n",
              "      <td>9.5</td>\n",
              "    </tr>\n",
              "    <tr>\n",
              "      <th>1</th>\n",
              "      <td>2023-03-01 01:00:00</td>\n",
              "      <td>16.2</td>\n",
              "      <td>78.5</td>\n",
              "      <td>5.0</td>\n",
              "      <td>1012.1</td>\n",
              "      <td>10.3</td>\n",
              "    </tr>\n",
              "    <tr>\n",
              "      <th>2</th>\n",
              "      <td>2023-03-01 02:00:00</td>\n",
              "      <td>15.3</td>\n",
              "      <td>73.3</td>\n",
              "      <td>4.7</td>\n",
              "      <td>NaN</td>\n",
              "      <td>11.1</td>\n",
              "    </tr>\n",
              "    <tr>\n",
              "      <th>3</th>\n",
              "      <td>2023-03-01 03:00:00</td>\n",
              "      <td>15.8</td>\n",
              "      <td>72.4</td>\n",
              "      <td>1.3</td>\n",
              "      <td>1005.0</td>\n",
              "      <td>8.9</td>\n",
              "    </tr>\n",
              "    <tr>\n",
              "      <th>4</th>\n",
              "      <td>2023-03-01 04:00:00</td>\n",
              "      <td>20.9</td>\n",
              "      <td>70.6</td>\n",
              "      <td>6.8</td>\n",
              "      <td>1016.3</td>\n",
              "      <td>9.8</td>\n",
              "    </tr>\n",
              "  </tbody>\n",
              "</table>\n",
              "</div>\n",
              "    <div class=\"colab-df-buttons\">\n",
              "\n",
              "  <div class=\"colab-df-container\">\n",
              "    <button class=\"colab-df-convert\" onclick=\"convertToInteractive('df-934082b1-30bf-4b4b-9d58-e2d7ce642380')\"\n",
              "            title=\"Convert this dataframe to an interactive table.\"\n",
              "            style=\"display:none;\">\n",
              "\n",
              "  <svg xmlns=\"http://www.w3.org/2000/svg\" height=\"24px\" viewBox=\"0 -960 960 960\">\n",
              "    <path d=\"M120-120v-720h720v720H120Zm60-500h600v-160H180v160Zm220 220h160v-160H400v160Zm0 220h160v-160H400v160ZM180-400h160v-160H180v160Zm440 0h160v-160H620v160ZM180-180h160v-160H180v160Zm440 0h160v-160H620v160Z\"/>\n",
              "  </svg>\n",
              "    </button>\n",
              "\n",
              "  <style>\n",
              "    .colab-df-container {\n",
              "      display:flex;\n",
              "      gap: 12px;\n",
              "    }\n",
              "\n",
              "    .colab-df-convert {\n",
              "      background-color: #E8F0FE;\n",
              "      border: none;\n",
              "      border-radius: 50%;\n",
              "      cursor: pointer;\n",
              "      display: none;\n",
              "      fill: #1967D2;\n",
              "      height: 32px;\n",
              "      padding: 0 0 0 0;\n",
              "      width: 32px;\n",
              "    }\n",
              "\n",
              "    .colab-df-convert:hover {\n",
              "      background-color: #E2EBFA;\n",
              "      box-shadow: 0px 1px 2px rgba(60, 64, 67, 0.3), 0px 1px 3px 1px rgba(60, 64, 67, 0.15);\n",
              "      fill: #174EA6;\n",
              "    }\n",
              "\n",
              "    .colab-df-buttons div {\n",
              "      margin-bottom: 4px;\n",
              "    }\n",
              "\n",
              "    [theme=dark] .colab-df-convert {\n",
              "      background-color: #3B4455;\n",
              "      fill: #D2E3FC;\n",
              "    }\n",
              "\n",
              "    [theme=dark] .colab-df-convert:hover {\n",
              "      background-color: #434B5C;\n",
              "      box-shadow: 0px 1px 3px 1px rgba(0, 0, 0, 0.15);\n",
              "      filter: drop-shadow(0px 1px 2px rgba(0, 0, 0, 0.3));\n",
              "      fill: #FFFFFF;\n",
              "    }\n",
              "  </style>\n",
              "\n",
              "    <script>\n",
              "      const buttonEl =\n",
              "        document.querySelector('#df-934082b1-30bf-4b4b-9d58-e2d7ce642380 button.colab-df-convert');\n",
              "      buttonEl.style.display =\n",
              "        google.colab.kernel.accessAllowed ? 'block' : 'none';\n",
              "\n",
              "      async function convertToInteractive(key) {\n",
              "        const element = document.querySelector('#df-934082b1-30bf-4b4b-9d58-e2d7ce642380');\n",
              "        const dataTable =\n",
              "          await google.colab.kernel.invokeFunction('convertToInteractive',\n",
              "                                                    [key], {});\n",
              "        if (!dataTable) return;\n",
              "\n",
              "        const docLinkHtml = 'Like what you see? Visit the ' +\n",
              "          '<a target=\"_blank\" href=https://colab.research.google.com/notebooks/data_table.ipynb>data table notebook</a>'\n",
              "          + ' to learn more about interactive tables.';\n",
              "        element.innerHTML = '';\n",
              "        dataTable['output_type'] = 'display_data';\n",
              "        await google.colab.output.renderOutput(dataTable, element);\n",
              "        const docLink = document.createElement('div');\n",
              "        docLink.innerHTML = docLinkHtml;\n",
              "        element.appendChild(docLink);\n",
              "      }\n",
              "    </script>\n",
              "  </div>\n",
              "\n",
              "\n",
              "    <div id=\"df-5efa720b-83b0-4df7-bc85-2cd2acc21b96\">\n",
              "      <button class=\"colab-df-quickchart\" onclick=\"quickchart('df-5efa720b-83b0-4df7-bc85-2cd2acc21b96')\"\n",
              "                title=\"Suggest charts\"\n",
              "                style=\"display:none;\">\n",
              "\n",
              "<svg xmlns=\"http://www.w3.org/2000/svg\" height=\"24px\"viewBox=\"0 0 24 24\"\n",
              "     width=\"24px\">\n",
              "    <g>\n",
              "        <path d=\"M19 3H5c-1.1 0-2 .9-2 2v14c0 1.1.9 2 2 2h14c1.1 0 2-.9 2-2V5c0-1.1-.9-2-2-2zM9 17H7v-7h2v7zm4 0h-2V7h2v10zm4 0h-2v-4h2v4z\"/>\n",
              "    </g>\n",
              "</svg>\n",
              "      </button>\n",
              "\n",
              "<style>\n",
              "  .colab-df-quickchart {\n",
              "      --bg-color: #E8F0FE;\n",
              "      --fill-color: #1967D2;\n",
              "      --hover-bg-color: #E2EBFA;\n",
              "      --hover-fill-color: #174EA6;\n",
              "      --disabled-fill-color: #AAA;\n",
              "      --disabled-bg-color: #DDD;\n",
              "  }\n",
              "\n",
              "  [theme=dark] .colab-df-quickchart {\n",
              "      --bg-color: #3B4455;\n",
              "      --fill-color: #D2E3FC;\n",
              "      --hover-bg-color: #434B5C;\n",
              "      --hover-fill-color: #FFFFFF;\n",
              "      --disabled-bg-color: #3B4455;\n",
              "      --disabled-fill-color: #666;\n",
              "  }\n",
              "\n",
              "  .colab-df-quickchart {\n",
              "    background-color: var(--bg-color);\n",
              "    border: none;\n",
              "    border-radius: 50%;\n",
              "    cursor: pointer;\n",
              "    display: none;\n",
              "    fill: var(--fill-color);\n",
              "    height: 32px;\n",
              "    padding: 0;\n",
              "    width: 32px;\n",
              "  }\n",
              "\n",
              "  .colab-df-quickchart:hover {\n",
              "    background-color: var(--hover-bg-color);\n",
              "    box-shadow: 0 1px 2px rgba(60, 64, 67, 0.3), 0 1px 3px 1px rgba(60, 64, 67, 0.15);\n",
              "    fill: var(--button-hover-fill-color);\n",
              "  }\n",
              "\n",
              "  .colab-df-quickchart-complete:disabled,\n",
              "  .colab-df-quickchart-complete:disabled:hover {\n",
              "    background-color: var(--disabled-bg-color);\n",
              "    fill: var(--disabled-fill-color);\n",
              "    box-shadow: none;\n",
              "  }\n",
              "\n",
              "  .colab-df-spinner {\n",
              "    border: 2px solid var(--fill-color);\n",
              "    border-color: transparent;\n",
              "    border-bottom-color: var(--fill-color);\n",
              "    animation:\n",
              "      spin 1s steps(1) infinite;\n",
              "  }\n",
              "\n",
              "  @keyframes spin {\n",
              "    0% {\n",
              "      border-color: transparent;\n",
              "      border-bottom-color: var(--fill-color);\n",
              "      border-left-color: var(--fill-color);\n",
              "    }\n",
              "    20% {\n",
              "      border-color: transparent;\n",
              "      border-left-color: var(--fill-color);\n",
              "      border-top-color: var(--fill-color);\n",
              "    }\n",
              "    30% {\n",
              "      border-color: transparent;\n",
              "      border-left-color: var(--fill-color);\n",
              "      border-top-color: var(--fill-color);\n",
              "      border-right-color: var(--fill-color);\n",
              "    }\n",
              "    40% {\n",
              "      border-color: transparent;\n",
              "      border-right-color: var(--fill-color);\n",
              "      border-top-color: var(--fill-color);\n",
              "    }\n",
              "    60% {\n",
              "      border-color: transparent;\n",
              "      border-right-color: var(--fill-color);\n",
              "    }\n",
              "    80% {\n",
              "      border-color: transparent;\n",
              "      border-right-color: var(--fill-color);\n",
              "      border-bottom-color: var(--fill-color);\n",
              "    }\n",
              "    90% {\n",
              "      border-color: transparent;\n",
              "      border-bottom-color: var(--fill-color);\n",
              "    }\n",
              "  }\n",
              "</style>\n",
              "\n",
              "      <script>\n",
              "        async function quickchart(key) {\n",
              "          const quickchartButtonEl =\n",
              "            document.querySelector('#' + key + ' button');\n",
              "          quickchartButtonEl.disabled = true;  // To prevent multiple clicks.\n",
              "          quickchartButtonEl.classList.add('colab-df-spinner');\n",
              "          try {\n",
              "            const charts = await google.colab.kernel.invokeFunction(\n",
              "                'suggestCharts', [key], {});\n",
              "          } catch (error) {\n",
              "            console.error('Error during call to suggestCharts:', error);\n",
              "          }\n",
              "          quickchartButtonEl.classList.remove('colab-df-spinner');\n",
              "          quickchartButtonEl.classList.add('colab-df-quickchart-complete');\n",
              "        }\n",
              "        (() => {\n",
              "          let quickchartButtonEl =\n",
              "            document.querySelector('#df-5efa720b-83b0-4df7-bc85-2cd2acc21b96 button');\n",
              "          quickchartButtonEl.style.display =\n",
              "            google.colab.kernel.accessAllowed ? 'block' : 'none';\n",
              "        })();\n",
              "      </script>\n",
              "    </div>\n",
              "\n",
              "    </div>\n",
              "  </div>\n"
            ],
            "application/vnd.google.colaboratory.intrinsic+json": {
              "type": "dataframe",
              "variable_name": "df",
              "summary": "{\n  \"name\": \"df\",\n  \"rows\": 240,\n  \"fields\": [\n    {\n      \"column\": \"timestamp\",\n      \"properties\": {\n        \"dtype\": \"object\",\n        \"num_unique_values\": 240,\n        \"samples\": [\n          \"2023-03-02 00:00:00\",\n          \"2023-03-01 06:00:00\",\n          \"2023-03-04 21:00:00\"\n        ],\n        \"semantic_type\": \"\",\n        \"description\": \"\"\n      }\n    },\n    {\n      \"column\": \"temperature_C\",\n      \"properties\": {\n        \"dtype\": \"number\",\n        \"std\": 3.421236578550004,\n        \"min\": 11.5,\n        \"max\": 28.7,\n        \"num_unique_values\": 105,\n        \"samples\": [\n          28.7,\n          21.1,\n          19.8\n        ],\n        \"semantic_type\": \"\",\n        \"description\": \"\"\n      }\n    },\n    {\n      \"column\": \"humidity_%\",\n      \"properties\": {\n        \"dtype\": \"number\",\n        \"std\": 8.19030006621049,\n        \"min\": 47.8,\n        \"max\": 88.1,\n        \"num_unique_values\": 152,\n        \"samples\": [\n          56.5,\n          60.9,\n          57.0\n        ],\n        \"semantic_type\": \"\",\n        \"description\": \"\"\n      }\n    },\n    {\n      \"column\": \"wind_speed_kmph\",\n      \"properties\": {\n        \"dtype\": \"number\",\n        \"std\": 3.94066752851656,\n        \"min\": 1.3,\n        \"max\": 17.8,\n        \"num_unique_values\": 117,\n        \"samples\": [\n          17.8,\n          6.8,\n          17.0\n        ],\n        \"semantic_type\": \"\",\n        \"description\": \"\"\n      }\n    },\n    {\n      \"column\": \"pressure_hPa\",\n      \"properties\": {\n        \"dtype\": \"number\",\n        \"std\": 5.187080347265346,\n        \"min\": 998.1,\n        \"max\": 1027.0,\n        \"num_unique_values\": 135,\n        \"samples\": [\n          1009.0,\n          1011.3,\n          1007.5\n        ],\n        \"semantic_type\": \"\",\n        \"description\": \"\"\n      }\n    },\n    {\n      \"column\": \"visibility_km\",\n      \"properties\": {\n        \"dtype\": \"number\",\n        \"std\": 1.0221656564668842,\n        \"min\": 6.8,\n        \"max\": 12.6,\n        \"num_unique_values\": 47,\n        \"samples\": [\n          8.6,\n          8.4,\n          11.2\n        ],\n        \"semantic_type\": \"\",\n        \"description\": \"\"\n      }\n    }\n  ]\n}"
            }
          },
          "metadata": {},
          "execution_count": 4
        }
      ],
      "source": [
        "# TODO: Load the data into a DataFrame\n",
        "import pandas as pd\n",
        "\n",
        "# Replace the file path if needed\n",
        "df = pd.read_csv('hourly_weather_10_days.csv')\n",
        "df.head()"
      ]
    },
    {
      "cell_type": "markdown",
      "id": "52e816b2",
      "metadata": {
        "id": "52e816b2"
      },
      "source": [
        "## Step 2: Basic Exploration\n",
        "- Check column names and data types\n",
        "- Display basic statistics using `.describe()`\n",
        "- Count missing values in each column"
      ]
    },
    {
      "cell_type": "code",
      "execution_count": null,
      "id": "6b6fe363",
      "metadata": {
        "id": "6b6fe363",
        "colab": {
          "base_uri": "https://localhost:8080/"
        },
        "outputId": "00ff1d94-75bd-48a3-df67-5d6d3f664fa1"
      },
      "outputs": [
        {
          "output_type": "stream",
          "name": "stdout",
          "text": [
            "<class 'pandas.core.frame.DataFrame'>\n",
            "RangeIndex: 240 entries, 0 to 239\n",
            "Data columns (total 6 columns):\n",
            " #   Column           Non-Null Count  Dtype  \n",
            "---  ------           --------------  -----  \n",
            " 0   timestamp        240 non-null    object \n",
            " 1   temperature_C    228 non-null    float64\n",
            " 2   humidity_%       224 non-null    float64\n",
            " 3   wind_speed_kmph  226 non-null    float64\n",
            " 4   pressure_hPa     223 non-null    float64\n",
            " 5   visibility_km    228 non-null    float64\n",
            "dtypes: float64(5), object(1)\n",
            "memory usage: 11.4+ KB\n",
            "None\n",
            "       temperature_C  humidity_%  wind_speed_kmph  pressure_hPa  visibility_km\n",
            "count     228.000000  224.000000       226.000000    223.000000     228.000000\n",
            "mean       21.315789   66.795982        10.105310   1011.884753       9.989474\n",
            "std         3.421237    8.190300         3.940668      5.187080       1.022166\n",
            "min        11.500000   47.800000         1.300000    998.100000       6.800000\n",
            "25%        18.700000   61.075000         6.625000   1008.900000       9.275000\n",
            "50%        21.900000   66.300000         9.800000   1012.100000      10.000000\n",
            "75%        23.925000   72.725000        13.500000   1015.100000      10.700000\n",
            "max        28.700000   88.100000        17.800000   1027.000000      12.600000\n",
            "timestamp           0\n",
            "temperature_C      12\n",
            "humidity_%         16\n",
            "wind_speed_kmph    14\n",
            "pressure_hPa       17\n",
            "visibility_km      12\n",
            "dtype: int64\n"
          ]
        }
      ],
      "source": [
        "# TODO: Explore the DataFrame\n",
        "print(df.info())\n",
        "print(df.describe())\n",
        "print(df.isna().sum())"
      ]
    },
    {
      "cell_type": "markdown",
      "id": "b73651ed",
      "metadata": {
        "id": "b73651ed"
      },
      "source": [
        "## Step 3: Handle Missing Values\n",
        "- Drop or fill missing values\n",
        "- Justify your approach (e.g., fill with mean, forward fill, etc.)"
      ]
    },
    {
      "cell_type": "code",
      "execution_count": null,
      "id": "2ed7fb33",
      "metadata": {
        "id": "2ed7fb33",
        "colab": {
          "base_uri": "https://localhost:8080/"
        },
        "outputId": "161057ad-dc56-4123-e012-8b1dbec2d79a"
      },
      "outputs": [
        {
          "output_type": "stream",
          "name": "stdout",
          "text": [
            "timestamp          0\n",
            "temperature_C      0\n",
            "humidity_%         0\n",
            "wind_speed_kmph    0\n",
            "pressure_hPa       0\n",
            "visibility_km      0\n",
            "dtype: int64\n"
          ]
        }
      ],
      "source": [
        "# TODO: Fill missing values\n",
        "# Example: df['column'] = df['column'].fillna(df['column'].mean())\n",
        "\n",
        "\n",
        "\n",
        "# Fill in your logic here\n",
        "\n",
        "df['temperature_C'] = df['temperature_C'].fillna(df['temperature_C'].mean())\n",
        "df['humidity_%'] = df['humidity_%'].fillna(df['humidity_%'].mean())\n",
        "df['wind_speed_kmph'] = df['wind_speed_kmph'].fillna(df['wind_speed_kmph'].mean())\n",
        "df['pressure_hPa'] = df['pressure_hPa'].fillna(df['pressure_hPa'].mean())\n",
        "df['visibility_km'] = df['visibility_km'].fillna(df['visibility_km'].mean())\n",
        "\n",
        "print(df.isna().sum())\n",
        "\n"
      ]
    },
    {
      "cell_type": "markdown",
      "id": "4e1d5c82",
      "metadata": {
        "id": "4e1d5c82"
      },
      "source": [
        "## Step 4: Data Analysis\n",
        "- Calculate daily average temperature\n",
        "- Find max, min, mean for each metric\n",
        "- Which hour of the day is the most humid on average?"
      ]
    },
    {
      "cell_type": "code",
      "execution_count": null,
      "id": "a9860be6",
      "metadata": {
        "id": "a9860be6",
        "colab": {
          "base_uri": "https://localhost:8080/"
        },
        "outputId": "842e1c9f-de3a-4a19-8eb6-5e30ef18154d"
      },
      "outputs": [
        {
          "output_type": "stream",
          "name": "stdout",
          "text": [
            "Daily Average Temperature:\n",
            " date\n",
            "2023-03-01    21.263158\n",
            "2023-03-02    21.258991\n",
            "2023-03-03    21.304825\n",
            "2023-03-04    21.425658\n",
            "2023-03-05    21.529825\n",
            "2023-03-06    21.858333\n",
            "2023-03-07    21.179825\n",
            "2023-03-08    20.947807\n",
            "2023-03-09    20.792325\n",
            "2023-03-10    21.597149\n",
            "Name: temperature_C, dtype: float64\n",
            "\n",
            "Find max, min, mean for each metric:\n",
            "       temperature_C  humidity_%  wind_speed_kmph  pressure_hPa  visibility_km\n",
            "max       28.700000   88.100000         17.80000   1027.000000      12.600000\n",
            "min       11.500000   47.800000          1.30000    998.100000       6.800000\n",
            "mean      21.315789   66.795982         10.10531   1011.884753       9.989474\n",
            "\n",
            "Most humid hour on average: 1:00 with 78.42% humidity\n"
          ]
        }
      ],
      "source": [
        "# TODO: Perform analysis\n",
        "# Use groupby, aggregation, and filtering functions\n",
        "# Placeholder example:\n",
        "# df['timestamp'] = pd.to_datetime(df['timestamp'])\n",
        "# df['hour'] = df['timestamp'].dt.hour\n",
        "# avg_humidity_by_hour = df.groupby('hour')['humidity_%'].mean()\n",
        "\n",
        "df['timestamp'] = pd.to_datetime(df['timestamp'])  # convert to datetime\n",
        "df['date'] = df['timestamp'].dt.date               # extract date for daily grouping\n",
        "df['hour'] = df['timestamp'].dt.hour               # extract hour for hourly analysis\n",
        "\n",
        "daily_avg_temp = df.groupby('date')['temperature_C'].mean()\n",
        "\n",
        "\n",
        "metrics = ['temperature_C', 'humidity_%', 'wind_speed_kmph', 'pressure_hPa', 'visibility_km']\n",
        "\n",
        "resul_metrics = df[metrics].agg(['max', 'min', 'mean'])\n",
        "\n",
        "\n",
        "avg_humidity_by_hour = df.groupby('hour')['humidity_%'].mean()\n",
        "most_humid_hour = avg_humidity_by_hour.idxmax()  # gives hour with highest average humidity\n",
        "most_humid_value = avg_humidity_by_hour.max()    # value of max humidity\n",
        "\n",
        "\n",
        "\n",
        "print(\"Daily Average Temperature:\\n\", daily_avg_temp)\n",
        "print(\"\\nFind max, min, mean for each metric:\\n\", resul_metrics)\n",
        "print(f\"\\nMost humid hour on average: {most_humid_hour}:00 with {most_humid_value:.2f}% humidity\")\n"
      ]
    },
    {
      "cell_type": "markdown",
      "id": "36119c0c",
      "metadata": {
        "id": "36119c0c"
      },
      "source": [
        "## Step 5: NumPy Matrix Exercises\n",
        "Convert relevant DataFrame columns into NumPy arrays and perform matrix operations."
      ]
    },
    {
      "cell_type": "code",
      "execution_count": null,
      "id": "04e09e3d",
      "metadata": {
        "id": "04e09e3d"
      },
      "outputs": [],
      "source": [
        "# TODO: Extract temperature and wind_speed as NumPy arrays\n",
        "import numpy as np\n",
        "\n",
        "temp = df['temperature_C'].to_numpy()\n",
        "wind = df['wind_speed_kmph'].to_numpy()"
      ]
    },
    {
      "cell_type": "markdown",
      "id": "22aff3f0",
      "metadata": {
        "id": "22aff3f0"
      },
      "source": [
        "### a) Reshape into matrix form\n",
        "- Assume each row is a day\n",
        "- Reshape temperature into a (10, 24) matrix\n",
        "- Calculate daily min, max, and mean using axis-based operations"
      ]
    },
    {
      "cell_type": "code",
      "execution_count": null,
      "id": "3d90f886",
      "metadata": {
        "id": "3d90f886",
        "colab": {
          "base_uri": "https://localhost:8080/"
        },
        "outputId": "8a275815-b3ce-4dfc-d4e8-79c9c4242bee"
      },
      "outputs": [
        {
          "output_type": "stream",
          "name": "stdout",
          "text": [
            "Daily Min Temperature:\n",
            " [14.7 15.7 13.6 15.9 12.4 15.5 15.3 13.5 14.3 11.5]\n",
            "\n",
            "Daily Max Temperature:\n",
            " [28.2 28.7 25.7 27.1 24.9 26.2 25.9 26.  27.1 28.5]\n",
            "\n",
            "Daily Mean Temperature:\n",
            " [21.26315789 21.25899123 21.30482456 21.42565789 21.52982456 21.85833333\n",
            " 21.17982456 20.94780702 20.79232456 21.59714912]\n"
          ]
        }
      ],
      "source": [
        "# TODO: Reshape and aggregate\n",
        "# Hint: temp_matrix = temp.reshape((10, 24))\n",
        "# Write functions to find min, max, mean across rows\n",
        "\n",
        "temp_matrix = temp.reshape((10, 24)) # 10 days × 24 hours/day.\n",
        "\n",
        "def daily_min(matrix):\n",
        "    return np.min(matrix, axis=1)\n",
        "\n",
        "def daily_max(matrix):\n",
        "    return np.max(matrix, axis=1)\n",
        "\n",
        "def daily_mean(matrix):\n",
        "    return np.mean(matrix, axis=1)\n",
        "\n",
        "\n",
        "daily_min_temp = daily_min(temp_matrix)\n",
        "daily_max_temp = daily_max(temp_matrix)\n",
        "daily_mean_temp = daily_mean(temp_matrix)\n",
        "\n",
        "print(\"Daily Min Temperature:\\n\", daily_min_temp)\n",
        "print(\"\\nDaily Max Temperature:\\n\", daily_max_temp)\n",
        "print(\"\\nDaily Mean Temperature:\\n\", daily_mean_temp)"
      ]
    },
    {
      "cell_type": "markdown",
      "id": "fc787766",
      "metadata": {
        "id": "fc787766"
      },
      "source": [
        "### b) Normalize the temperature matrix\n",
        "- Subtract the mean and divide by std deviation\n",
        "- Do it manually using NumPy functions"
      ]
    },
    {
      "cell_type": "code",
      "execution_count": null,
      "id": "80f02a5a",
      "metadata": {
        "id": "80f02a5a",
        "colab": {
          "base_uri": "https://localhost:8080/"
        },
        "outputId": "70d6f632-375d-4f96-b084-ccf184bfb98a"
      },
      "outputs": [
        {
          "output_type": "stream",
          "name": "stdout",
          "text": [
            "Normalized Matrix:\n",
            " [[-1.4173072  -1.53752522 -1.80801577 -1.65774325 -0.12496347 -0.15501798\n",
            "   0.44607213  0.35590862 -0.03479995  2.06901543  0.          1.28759828\n",
            "   1.22748927  0.62639917  1.88868839  0.74661719  0.20563609  0.71656268\n",
            "   0.53623565  0.2356906  -0.93643512 -0.57578105 -0.48561753 -1.98834281]\n",
            " [-1.62768874 -1.68779775 -1.11676215 -0.39545402  0.20563609 -0.03479995\n",
            "   0.41601763  0.05536356  0.68650818  2.21928795 -0.24518149  1.13732576\n",
            "   0.2356906   0.95699873  0.38596312  0.17558158  0.77667169  0.\n",
            "   0.86683521  0.20563609 -0.42550852 -0.75610808 -1.44736171 -0.99654413]\n",
            " [-2.31894237 -1.68779775 -0.8462716  -1.62768874  1.31765279 -0.12496347\n",
            "  -0.15501798 -0.18507248  0.29579961  1.31765279  1.04716224 -0.03479995\n",
            "   1.25754378  0.17558158  0.32585411  1.01710774  0.92694422  0.\n",
            "   0.59634466  0.92694422  0.41601763 -0.12496347 -0.81621709 -1.77796127]\n",
            " [-1.3872527  -0.78616259 -1.02659863 -1.59763424  0.05536356  0.2356906\n",
            "   1.73841587  0.71656268  0.17558158  0.86683521  1.64825235  0.92694422\n",
            "   0.          1.31765279  0.8067262  -0.54572655  0.50618114  0.71656268\n",
            "  -0.45556303 -0.06485446 -0.78616259 -0.15501798 -0.48561753 -1.62768874]\n",
            " [-0.48561753 -2.67959643 -0.78616259 -0.72605358 -0.03479995 -0.09490896\n",
            "  -0.51567204 -0.24518149  1.01710774  0.          0.59634466  0.53623565\n",
            "   0.44607213  0.95699873  1.07721675  1.01710774  0.8367807   0.35590862\n",
            "   0.86683521  0.59634466  0.2657451   0.77667169 -1.35719819 -0.87632611]\n",
            " [-1.05665314 -0.8462716  -0.06485446  0.17558158 -1.02659863 -1.4173072\n",
            "   0.59634466  1.04716224  0.35590862  1.40781631  1.22748927  0.89688971\n",
            "   1.46792532 -0.15501798 -0.00474545  0.41601763  1.01710774  0.65645367\n",
            "   1.28759828  0.56629015  0.77667169 -1.74790676 -0.45556303 -1.20692567]\n",
            " [-1.65774325 -1.11676215 -1.02659863  0.         -0.45556303  0.62639917\n",
            "  -0.42550852  1.31765279  0.53623565  1.3777618   0.92694422  0.35590862\n",
            "   1.04716224  0.95699873  0.86683521  0.47612664 -0.39545402 -0.18507248\n",
            "  -0.24518149  0.17558158  0.56629015 -1.77796127 -1.80801577 -1.11676215]\n",
            " [-2.34899687  0.         -1.17687116 -1.9582883  -0.03479995 -0.8462716\n",
            "   0.08541807  0.62639917  1.40781631  0.29579961  0.          1.07721675\n",
            "   0.71656268  0.          0.98705323  0.68650818  1.25754378  0.92694422\n",
            "   0.35590862  0.05536356 -0.69599907 -1.20692567 -1.83807028 -1.02659863]\n",
            " [-2.10856083 -1.20692567 -1.71785226  0.05536356 -1.05665314 -0.03479995\n",
            "  -0.21512699 -0.00474545  0.44607213 -0.03479995  1.13732576  1.31765279\n",
            "   1.73841587  1.10727125  0.          0.71656268  0.05536356  0.89688971\n",
            "   0.68650818 -0.81621709 -0.51567204 -1.98834281 -0.69599907 -1.53752522]\n",
            " [-1.08670764 -1.50747072 -1.35719819 -1.20692567 -0.39545402  0.14552708\n",
            "   0.59634466  0.92694422  0.8367807   2.15917894  1.3477073   1.19743477\n",
            "   0.          0.71656268  0.8067262   0.41601763  0.86683521  0.38596312\n",
            "  -0.03479995  0.62639917 -0.33534501  0.         -0.12496347 -2.95008698]]\n",
            "\n",
            "Mean of normalized matrix: 4.440892098500626e-16\n",
            "Std Deviation of normalized matrix: 1.0\n"
          ]
        }
      ],
      "source": [
        "# TODO: Normalize temp_matrix\n",
        "# Placeholder for function: def normalize(matrix):\n",
        "# return ...\n",
        "\n",
        "# Apply it to temp_matrix\n",
        "\n",
        "def normalize(matrix):\n",
        "    mean = np.mean(matrix)\n",
        "    std = np.std(matrix)\n",
        "    return (matrix - mean) / std\n",
        "\n",
        "normalized_temp_matrix = normalize(temp_matrix)\n",
        "\n",
        "print(\"Normalized Matrix:\\n\", normalized_temp_matrix)\n",
        "print(\"\\nMean of normalized matrix:\", np.mean(normalized_temp_matrix))\n",
        "print(\"Std Deviation of normalized matrix:\", np.std(normalized_temp_matrix))\n"
      ]
    },
    {
      "cell_type": "markdown",
      "id": "64b192d5",
      "metadata": {
        "id": "64b192d5"
      },
      "source": [
        "### c) Apply custom mask/filter\n",
        "- Create a mask for wind speed > 15 kmph\n",
        "- Use it to extract high-wind readings"
      ]
    },
    {
      "cell_type": "code",
      "execution_count": null,
      "id": "09aa193d",
      "metadata": {
        "id": "09aa193d",
        "colab": {
          "base_uri": "https://localhost:8080/"
        },
        "outputId": "682fc44b-c7bd-451c-ce56-9f62295d1e45"
      },
      "outputs": [
        {
          "output_type": "stream",
          "name": "stdout",
          "text": [
            "High Wind Speeds (>15 km/h):\n",
            " [17.6 16.  16.5 16.3 16.7 15.8 17.8 15.1 16.3 15.2 17.  15.9 15.6 15.8\n",
            " 15.4 15.6 16.3 15.3 16.2 16.9 15.3 15.2 15.5 17.4 17.4 15.4 15.4 16.5\n",
            " 17.  15.7]\n",
            "\n",
            "Total High-Wind Readings: 30\n"
          ]
        }
      ],
      "source": [
        "# TODO: Create boolean mask and filter wind speeds\n",
        "# mask = wind > 15\n",
        "# high_wind = wind[mask]\n",
        "\n",
        "mask = wind > 15\n",
        "high_wind = wind[mask]\n",
        "\n",
        "print(\"High Wind Speeds (>15 km/h):\\n\", high_wind)\n",
        "print(\"\\nTotal High-Wind Readings:\", len(high_wind))"
      ]
    },
    {
      "cell_type": "markdown",
      "id": "6a7ea5ad",
      "metadata": {
        "id": "6a7ea5ad"
      },
      "source": [
        "## Final Challenge: Write Your Own Function\n",
        "Write a function `daily_summary(matrix)` that takes a NumPy matrix of shape (10, 24) and returns a summary dictionary for each day."
      ]
    },
    {
      "cell_type": "code",
      "execution_count": null,
      "id": "96388bd6",
      "metadata": {
        "id": "96388bd6",
        "colab": {
          "base_uri": "https://localhost:8080/"
        },
        "outputId": "1fff1b51-41a9-45f1-87df-f24cd26e0cbd"
      },
      "outputs": [
        {
          "output_type": "stream",
          "name": "stdout",
          "text": [
            "Day 1 Summary: {'min': np.float64(14.7), 'max': np.float64(28.2), 'mean': np.float64(21.263157894736846)}\n",
            "Day 2 Summary: {'min': np.float64(15.7), 'max': np.float64(28.7), 'mean': np.float64(21.258991228070176)}\n",
            "Day 3 Summary: {'min': np.float64(13.6), 'max': np.float64(25.7), 'mean': np.float64(21.304824561403507)}\n",
            "Day 4 Summary: {'min': np.float64(15.9), 'max': np.float64(27.1), 'mean': np.float64(21.425657894736844)}\n",
            "Day 5 Summary: {'min': np.float64(12.4), 'max': np.float64(24.9), 'mean': np.float64(21.52982456140351)}\n",
            "Day 6 Summary: {'min': np.float64(15.5), 'max': np.float64(26.2), 'mean': np.float64(21.858333333333334)}\n",
            "Day 7 Summary: {'min': np.float64(15.3), 'max': np.float64(25.9), 'mean': np.float64(21.17982456140351)}\n",
            "Day 8 Summary: {'min': np.float64(13.5), 'max': np.float64(26.0), 'mean': np.float64(20.947807017543862)}\n",
            "Day 9 Summary: {'min': np.float64(14.3), 'max': np.float64(27.1), 'mean': np.float64(20.792324561403507)}\n",
            "Day 10 Summary: {'min': np.float64(11.5), 'max': np.float64(28.5), 'mean': np.float64(21.59714912280702)}\n"
          ]
        }
      ],
      "source": [
        "# TODO: Write and test your function\n",
        "\n",
        "def daily_summary(matrix):\n",
        "    # Create an empty list to hold daily summaries\n",
        "    summaries = []\n",
        "\n",
        "    # Loop through each day's data (each row in the matrix)\n",
        "    for row in matrix:\n",
        "        # Calculate daily min, max, and mean\n",
        "        day_min = np.min(row)\n",
        "        day_max = np.max(row)\n",
        "        day_mean = np.mean(row)\n",
        "\n",
        "        # Create a dictionary with the summary\n",
        "        summary = {\n",
        "            'min': day_min,\n",
        "            'max': day_max,\n",
        "            'mean': day_mean\n",
        "        }\n",
        "\n",
        "        # Append the dictionary to the list\n",
        "        summaries.append(summary)\n",
        "\n",
        "    # Return the list of daily summaries\n",
        "    return summaries\n",
        "\n",
        "# Example usage:\n",
        "summaries = daily_summary(temp_matrix)\n",
        "for i, summary in enumerate(summaries):\n",
        "    print(f\"Day {i+1} Summary: {summary}\")\n",
        "\n"
      ]
    },
    {
      "cell_type": "markdown",
      "id": "f9e64f53",
      "metadata": {
        "id": "f9e64f53"
      },
      "source": [
        "## ✅ Submit your notebook once complete.\n",
        "- Add comments where necessary"
      ]
    }
  ],
  "metadata": {
    "language_info": {
      "name": "python"
    },
    "colab": {
      "provenance": [],
      "toc_visible": true
    },
    "kernelspec": {
      "name": "python3",
      "display_name": "Python 3"
    }
  },
  "nbformat": 4,
  "nbformat_minor": 5
}